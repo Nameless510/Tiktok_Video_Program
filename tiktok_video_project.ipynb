{
 "cells": [
  {
   "cell_type": "code",
   "execution_count": 1,
   "metadata": {},
   "outputs": [
    {
     "name": "stdout",
     "output_type": "stream",
     "text": [
      "Loading YOLO-World model: models/yolov8s-world.pt\n"
     ]
    },
    {
     "name": "stderr",
     "output_type": "stream",
     "text": [
      "Loading checkpoint shards: 100%|██████████| 10/10 [00:17<00:00,  1.76s/it]"
     ]
    },
    {
     "name": "stdout",
     "output_type": "stream",
     "text": [
      "[DEBUG] Qwen model type: <class 'transformers_modules.Qwen-VL-Chat.modeling_qwen.QWenLMHeadModel'>\n",
      "[DEBUG] Has chat method: True\n",
      "[DEBUG] Qwen tokenizer type: <class 'transformers_modules.Qwen-VL-Chat.tokenization_qwen.QWenTokenizer'>\n",
      "Found 11 video files\n"
     ]
    },
    {
     "name": "stderr",
     "output_type": "stream",
     "text": [
      "\n"
     ]
    }
   ],
   "source": [
    "import os\n",
    "import sys\n",
    "import pandas as pd\n",
    "from tqdm import tqdm\n",
    "import warnings\n",
    "warnings.filterwarnings('ignore')\n",
    "\n",
    "# Add src directory to Python path\n",
    "current_dir = os.getcwd()\n",
    "src_path = os.path.join(current_dir, 'src')\n",
    "if src_path not in sys.path:\n",
    "    sys.path.append(src_path)\n",
    "\n",
    "# Import and initialize (minimal output)\n",
    "from tiktok_feature_extractor import TikTokFeatureExtractor\n",
    "extractor = TikTokFeatureExtractor()\n",
    "\n",
    "# Set paths\n",
    "video_folder = \"tiktok_videos\"\n",
    "output_folder = \"tiktok_frames\"\n",
    "csv_output = \"video_features_results.csv\"\n",
    "\n",
    "# Check and create directories\n",
    "if not os.path.exists(video_folder):\n",
    "    print(f\"Video folder '{video_folder}' not found!\")\n",
    "    exit()\n",
    "os.makedirs(output_folder, exist_ok=True)\n",
    "\n",
    "# Get video files\n",
    "video_files = [f for f in os.listdir(video_folder) if f.lower().endswith('.mp4')]\n",
    "print(f\"Found {len(video_files)} video files\")"
   ]
  },
  {
   "cell_type": "code",
   "execution_count": 2,
   "id": "f4fd8f24",
   "metadata": {},
   "outputs": [
    {
     "name": "stdout",
     "output_type": "stream",
     "text": [
      "Loading VAD model on device: cuda\n"
     ]
    },
    {
     "name": "stderr",
     "output_type": "stream",
     "text": [
      "Using cache found in C:\\Users\\Shuwei Yang/.cache\\torch\\hub\\snakers4_silero-vad_master\n"
     ]
    },
    {
     "name": "stdout",
     "output_type": "stream",
     "text": [
      "Loading Whisper model on device: cuda\n",
      "Transcribing audio: tiktok_frames\\Download (7)\\Download (7).wav\n",
      "Transcription successful: 510 characters\n",
      "\n",
      "image 1/1 d:\\tiktok\\tiktok_frames\\Download (7)\\Download (7)_keyframe_0000.jpg: 640x384 1 knife, 1 toilet, 1 tv, 453.5ms\n",
      "Speed: 5.2ms preprocess, 453.5ms inference, 47.3ms postprocess per image at shape (1, 3, 640, 384)\n",
      "\n",
      "image 1/1 d:\\tiktok\\tiktok_frames\\Download (7)\\Download (7)_keyframe_0250.jpg: 640x384 2 persons, 1 sink, 413.9ms\n",
      "Speed: 3.2ms preprocess, 413.9ms inference, 3.1ms postprocess per image at shape (1, 3, 640, 384)\n",
      "\n",
      "image 1/1 d:\\tiktok\\tiktok_frames\\Download (7)\\Download (7)_keyframe_0357.jpg: 640x384 3 persons, 1 dining table, 1 cell phone, 2 toothbrushs, 433.5ms\n",
      "Speed: 3.1ms preprocess, 433.5ms inference, 2.8ms postprocess per image at shape (1, 3, 640, 384)\n",
      "\n",
      "image 1/1 d:\\tiktok\\tiktok_frames\\Download (7)\\Download (7)_keyframe_0497.jpg: 640x384 1 cat, 1 bowl, 1 dining table, 1 vase, 1 scissors, 417.8ms\n",
      "Speed: 2.5ms preprocess, 417.8ms inference, 2.4ms postprocess per image at shape (1, 3, 640, 384)\n",
      "\n",
      "image 1/1 d:\\tiktok\\tiktok_frames\\Download (7)\\Download (7)_keyframe_0602.jpg: 640x384 1 cup, 1 bowl, 1 potted plant, 1 dining table, 444.8ms\n",
      "Speed: 3.2ms preprocess, 444.8ms inference, 3.4ms postprocess per image at shape (1, 3, 640, 384)\n",
      "\n",
      "image 1/1 d:\\tiktok\\tiktok_frames\\Download (7)\\Download (7)_keyframe_0736.jpg: 640x384 1 cat, 1 bowl, 438.9ms\n",
      "Speed: 3.2ms preprocess, 438.9ms inference, 2.2ms postprocess per image at shape (1, 3, 640, 384)\n",
      "  - Found 2 product frames, 4 non-product frames\n",
      "\n",
      "image 1/1 d:\\tiktok\\tiktok_frames\\Download (7)\\Download (7)_representative_00.jpg: 640x384 1 knife, 1 toilet, 1 tv, 466.7ms\n",
      "Speed: 2.6ms preprocess, 466.7ms inference, 2.8ms postprocess per image at shape (1, 3, 640, 384)\n",
      "\n",
      "image 1/1 d:\\tiktok\\tiktok_frames\\Download (7)\\Download (7)_representative_00.jpg: 640x384 1 knife, 1 toilet, 1 tv, 326.5ms\n",
      "Speed: 2.4ms preprocess, 326.5ms inference, 2.4ms postprocess per image at shape (1, 3, 640, 384)\n",
      "\n",
      "image 1/1 d:\\tiktok\\tiktok_frames\\Download (7)\\Download (7)_representative_01.jpg: 640x384 3 persons, 1 dining table, 1 cell phone, 2 toothbrushs, 323.8ms\n",
      "Speed: 2.3ms preprocess, 323.8ms inference, 2.3ms postprocess per image at shape (1, 3, 640, 384)\n",
      "\n",
      "image 1/1 d:\\tiktok\\tiktok_frames\\Download (7)\\Download (7)_representative_01.jpg: 640x384 3 persons, 1 dining table, 1 cell phone, 2 toothbrushs, 321.9ms\n",
      "Speed: 2.4ms preprocess, 321.9ms inference, 2.7ms postprocess per image at shape (1, 3, 640, 384)\n",
      "\n",
      "image 1/1 d:\\tiktok\\tiktok_frames\\Download (7)\\Download (7)_representative_02.jpg: 640x384 1 cat, 1 bowl, 1 dining table, 1 vase, 1 scissors, 323.4ms\n",
      "Speed: 2.4ms preprocess, 323.4ms inference, 2.5ms postprocess per image at shape (1, 3, 640, 384)\n",
      "\n",
      "image 1/1 d:\\tiktok\\tiktok_frames\\Download (7)\\Download (7)_representative_02.jpg: 640x384 1 cat, 1 bowl, 1 dining table, 1 vase, 1 scissors, 500.2ms\n",
      "Speed: 2.5ms preprocess, 500.2ms inference, 2.8ms postprocess per image at shape (1, 3, 640, 384)\n",
      "\n",
      "💾 Results saved to: video_features_results.csv\n"
     ]
    }
   ],
   "source": [
    "df = extractor.extract_features_from_single_video(\n",
    "    video_path=\"tiktok_videos/Download (7).mp4\", \n",
    "    output_folder=\"tiktok_frames\", \n",
    "    csv_output_path=csv_output\n",
    ")"
   ]
  },
  {
   "cell_type": "code",
   "execution_count": null,
   "metadata": {},
   "outputs": [],
   "source": [
    "df = extractor.extract_features_from_folder(\n",
    "    video_folder=video_folder,\n",
    "    output_folder=output_folder,\n",
    "    csv_output_path=csv_output\n",
    ")"
   ]
  }
 ],
 "metadata": {
  "kernelspec": {
   "display_name": "torchgpu",
   "language": "python",
   "name": "python3"
  },
  "language_info": {
   "codemirror_mode": {
    "name": "ipython",
    "version": 3
   },
   "file_extension": ".py",
   "mimetype": "text/x-python",
   "name": "python",
   "nbconvert_exporter": "python",
   "pygments_lexer": "ipython3",
   "version": "3.10.18"
  }
 },
 "nbformat": 4,
 "nbformat_minor": 5
}
