{
 "cells": [
  {
   "cell_type": "code",
   "execution_count": null,
   "metadata": {},
   "outputs": [],
   "source": [
    "import os\n",
    "import sys\n",
    "import pandas as pd\n",
    "from tqdm import tqdm\n",
    "import warnings\n",
    "warnings.filterwarnings('ignore')\n",
    "\n",
    "# Add src directory to Python path\n",
    "current_dir = os.getcwd()\n",
    "src_path = os.path.join(current_dir, 'src')\n",
    "if src_path not in sys.path:\n",
    "    sys.path.append(src_path)\n",
    "\n",
    "# Import and initialize (minimal output)\n",
    "from tiktok_feature_extractor import TikTokFeatureExtractor\n",
    "extractor = TikTokFeatureExtractor()\n",
    "\n",
    "# Set paths\n",
    "video_folder = \"tiktok_videos\"\n",
    "output_folder = \"tiktok_frames\"\n",
    "csv_output = \"video_features_results.csv\"\n",
    "\n",
    "# Check and create directories\n",
    "if not os.path.exists(video_folder):\n",
    "    print(f\"Video folder '{video_folder}' not found!\")\n",
    "    exit()\n",
    "os.makedirs(output_folder, exist_ok=True)\n",
    "\n",
    "# Get video files\n",
    "video_files = [f for f in os.listdir(video_folder) if f.lower().endswith('.mp4')]\n",
    "print(f\"Found {len(video_files)} video files\")"
   ]
  },
  {
   "cell_type": "code",
   "execution_count": null,
   "id": "f4fd8f24",
   "metadata": {},
   "outputs": [],
   "source": [
    "df = extractor.extract_features_from_single_video(\n",
    "    video_path=\"tiktok_videos/Download (11).mp4\", \n",
    "    output_folder=\"tiktok_frames\", \n",
    "    csv_output_path=csv_output\n",
    ")"
   ]
  },
  {
   "cell_type": "code",
   "execution_count": null,
   "metadata": {},
   "outputs": [],
   "source": [
    "df = extractor.extract_features_from_folder(\n",
    "    video_folder=video_folder,\n",
    "    output_folder=output_folder,\n",
    "    csv_output_path=csv_output\n",
    ")"
   ]
  }
 ],
 "metadata": {
  "kernelspec": {
   "display_name": "torchgpu",
   "language": "python",
   "name": "python3"
  },
  "language_info": {
   "codemirror_mode": {
    "name": "ipython",
    "version": 3
   },
   "file_extension": ".py",
   "mimetype": "text/x-python",
   "name": "python",
   "nbconvert_exporter": "python",
   "pygments_lexer": "ipython3",
   "version": "3.10.18"
  }
 },
 "nbformat": 4,
 "nbformat_minor": 5
}
